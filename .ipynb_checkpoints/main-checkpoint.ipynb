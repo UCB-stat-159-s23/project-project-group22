{
 "cells": [
  {
   "cell_type": "markdown",
   "id": "7dc58777-be27-46f4-99b2-3285c470aa4a",
   "metadata": {
    "user_expressions": []
   },
   "source": [
    "# STAT 159 Final Project - Group 22"
   ]
  },
  {
   "cell_type": "markdown",
   "id": "522a370a-5046-425a-9dc9-2a2c3a447ae7",
   "metadata": {
    "user_expressions": []
   },
   "source": [
    "## A three-year dataset supporting research on building energy management and occupancy analytics"
   ]
  },
  {
   "cell_type": "markdown",
   "id": "f6419359-308b-449d-9153-a136d8513b23",
   "metadata": {
    "user_expressions": []
   },
   "source": [
    "**Research Question**: How is the energy consumption of the building influenced by various factors?"
   ]
  },
  {
   "cell_type": "markdown",
   "id": "ff241c44-7ffc-40f7-81d1-06ef4b87584e",
   "metadata": {
    "user_expressions": []
   },
   "source": [
    "**Authors**: Aoyu, Emma, Hamsa, Reuel"
   ]
  },
  {
   "cell_type": "markdown",
   "id": "0e6f619e-0096-4543-84be-31b6efd8f714",
   "metadata": {
    "user_expressions": []
   },
   "source": [
    "## Introduction "
   ]
  },
  {
   "cell_type": "code",
   "execution_count": null,
   "id": "f84b8dcd-9acd-4372-bf86-6a9f3b8b39b3",
   "metadata": {},
   "outputs": [],
   "source": []
  }
 ],
 "metadata": {
  "kernelspec": {
   "display_name": "Python 3 (ipykernel)",
   "language": "python",
   "name": "python3"
  },
  "language_info": {
   "codemirror_mode": {
    "name": "ipython",
    "version": 3
   },
   "file_extension": ".py",
   "mimetype": "text/x-python",
   "name": "python",
   "nbconvert_exporter": "python",
   "pygments_lexer": "ipython3",
   "version": "3.10.8"
  }
 },
 "nbformat": 4,
 "nbformat_minor": 5
}
